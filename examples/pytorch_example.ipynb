{
 "cells": [
  {
   "cell_type": "markdown",
   "metadata": {
    "collapsed": true,
    "pycharm": {
     "name": "#%% md\n"
    }
   },
   "source": [
    "# Example - MNIST optimization with Pytorch\n",
    "\n",
    "Here you can see an example on how to optimize a model made with Pytorch on the popular dataset MNIST.\n"
   ]
  },
  {
   "cell_type": "markdown",
   "metadata": {
    "pycharm": {
     "name": "#%% md\n"
    }
   },
   "source": [
    "## Imports\n",
    "\n",
    "We start by importing some useful stuff."
   ]
  },
  {
   "cell_type": "code",
   "execution_count": 1,
   "metadata": {
    "pycharm": {
     "name": "#%%\n"
    }
   },
   "outputs": [],
   "source": [
    "# Some useful packages\n",
    "from typing import Union, Tuple, Dict\n",
    "import numpy as np\n",
    "import pandas as pd\n",
    "import pprint\n",
    "import os\n",
    "import enum\n",
    "import tqdm\n",
    "\n",
    "\n",
    "# Pytorch\n",
    "import torch\n",
    "from torch import nn, optim\n",
    "from torch.utils.data import Subset, Dataset, DataLoader, TensorDataset\n",
    "from torchvision.datasets.mnist import MNIST\n",
    "from torchvision import transforms\n",
    "from torchvision.transforms import ToTensor, ConvertImageDtype, Compose\n",
    "\n",
    "# Importing the HPOptimizer and the RandomHpSearch from the AutoMLpy package.\n",
    "from AutoMLpy import HpOptimizer, RandomHpSearch"
   ]
  },
  {
   "cell_type": "markdown",
   "metadata": {
    "pycharm": {
     "name": "#%% md\n"
    }
   },
   "source": [
    "## Dataset\n",
    "\n",
    "Now we load the MNIST dataset in the pytorch way."
   ]
  },
  {
   "cell_type": "code",
   "execution_count": 2,
   "metadata": {
    "pycharm": {
     "name": "#%%\n"
    }
   },
   "outputs": [],
   "source": [
    "BASE_PATH = '~/examples/pytorch_datasets/'\n",
    "\n",
    "def get_torch_MNIST_datasets(seed: int = 42, path=os.path.join(BASE_PATH, 'mnist'), **kwargs):\n",
    "    train_split_ratio = 0.8\n",
    "\n",
    "    np.random.seed(seed)\n",
    "\n",
    "    mnist_transforms = Compose(\n",
    "        [\n",
    "            ToTensor(),\n",
    "            ConvertImageDtype(torch.float),\n",
    "            transforms.Lambda(lambda x: x/1.),\n",
    "         ]\n",
    "    )\n",
    "\n",
    "    print(\"Downloading MNIST dataset...\")\n",
    "    full_train_dataset = MNIST(path, train=True, download=True, transform=mnist_transforms)\n",
    "    test_dataset = MNIST(path, train=False, download=True, transform=mnist_transforms)\n",
    "    print(\"Downloading MNIST dataset --> Done\")\n",
    "\n",
    "    indices = list(range(len(full_train_dataset)))\n",
    "    np.random.shuffle(indices)\n",
    "\n",
    "    split_index = np.floor(train_split_ratio * len(full_train_dataset)).astype(int)\n",
    "\n",
    "    train_indices = indices[:split_index]\n",
    "    train_dataset = Subset(full_train_dataset, train_indices)\n",
    "\n",
    "    valid_indices = indices[split_index:]\n",
    "    valid_dataset = Subset(full_train_dataset, valid_indices)\n",
    "\n",
    "    return dict(train=train_dataset, valid=valid_dataset, test=test_dataset)\n",
    "\n",
    "\n",
    "def get_torch_MNIST_X_y(**kwargs):\n",
    "    datasets = get_torch_MNIST_datasets(**kwargs)\n",
    "    X_y_dict = {phase: dict(x=[], y=[]) for phase in datasets}\n",
    "    for phase, dataset in datasets.items():\n",
    "        for x, y in dataset:\n",
    "            X_y_dict[phase][\"x\"].append(x)\n",
    "            X_y_dict[phase][\"y\"].append(y)\n",
    "    for phase in X_y_dict:\n",
    "        X_y_dict[phase][\"x\"] = torch.stack(X_y_dict[phase][\"x\"], dim=0)\n",
    "        X_y_dict[phase][\"y\"] = torch.LongTensor(X_y_dict[phase][\"y\"])\n",
    "    return X_y_dict"
   ]
  },
  {
   "cell_type": "markdown",
   "metadata": {},
   "source": [
    "## Torch Model\n",
    "\n",
    "Now we make a class that return a torch.nn model given a set of hyper-parameters (hp).\n"
   ]
  },
  {
   "cell_type": "code",
   "execution_count": 3,
   "metadata": {
    "pycharm": {
     "name": "#%%\n"
    }
   },
   "outputs": [],
   "source": [
    "class MnistNet(nn.Module):\n",
    "    def __init__(self):\n",
    "        super().__init__()\n",
    "        self.backbone = nn.Sequential(\n",
    "            nn.Conv2d(1, 10, 3, padding=1),\n",
    "            nn.ReLU(),\n",
    "            nn.MaxPool2d((2, 2)),\n",
    "            nn.Conv2d(10, 20, 3, padding=1),\n",
    "            nn.ReLU(),\n",
    "            nn.MaxPool2d((2, 2)),\n",
    "        )\n",
    "\n",
    "        self.clf = nn.Sequential(\n",
    "            nn.Flatten(),\n",
    "            nn.Linear(20 * 7 * 7, 84),\n",
    "            nn.ReLU(),\n",
    "            nn.Linear(84, 10),\n",
    "        )\n",
    "\n",
    "    def forward(self, x):\n",
    "        if len(x.shape) == 3:\n",
    "            x = x[:, np.newaxis, :, :]\n",
    "        feat = self.backbone(x)\n",
    "        logits = self.clf(feat)\n",
    "        return logits"
   ]
  },
  {
   "cell_type": "markdown",
   "metadata": {},
   "source": [
    "## The training functions\n"
   ]
  },
  {
   "cell_type": "code",
   "execution_count": 4,
   "metadata": {
    "pycharm": {
     "name": "#%%\n"
    }
   },
   "outputs": [],
   "source": [
    "class PhaseType(enum.Enum):\n",
    "    train = 0\n",
    "    val = 1\n",
    "    test = 2\n",
    "\n",
    "\n",
    "def train_pytorch_network(\n",
    "        network,\n",
    "        loaders,\n",
    "        verbose: bool = False,\n",
    "        **training_kwargs,\n",
    "):\n",
    "    \"\"\"\n",
    "    Fit the given network with the given training data.\n",
    "\n",
    "    Parameters\n",
    "    ----------\n",
    "    network: The neural network to fit.\n",
    "    loaders: The data loaders as a dictionary with keys: {train, valid}.\n",
    "    verbose: True to show some training stats else False.\n",
    "    training_kwargs:\n",
    "        optimiser (torch.optim): The optimizer used to make the weights updates.\n",
    "        momentum (float): The momentum of the optimiser if the optimiser is not given.\n",
    "        nesterov (bool): The nesterov of the optimiser if the optimiser is not given.\n",
    "        use_cuda (bool): True to use cuda device else False.\n",
    "\n",
    "    Returns\n",
    "    -------\n",
    "    last train accuracy, last validation accuracy, the training history.\n",
    "    \"\"\"\n",
    "\n",
    "    training_kwargs.setdefault(\n",
    "        \"optimizer\",\n",
    "        torch.optim.SGD(\n",
    "            (p for p in network.parameters() if p.requires_grad),\n",
    "            lr=training_kwargs.get(\"lr\", 1e-3),\n",
    "            momentum=training_kwargs.get(\"momentum\", 0.9),\n",
    "            nesterov=training_kwargs.get(\"nesterov\", True),\n",
    "        )\n",
    "    )\n",
    "\n",
    "    training_kwargs.setdefault(\n",
    "        \"criterion\",\n",
    "        torch.nn.CrossEntropyLoss()\n",
    "    )\n",
    "\n",
    "    history = []\n",
    "    nb_epochs = training_kwargs.get(\"epochs\", 5)\n",
    "\n",
    "    for epoch in range(nb_epochs):\n",
    "        epoch_logs = {}\n",
    "        train_logs = execute_phase(network, loaders[\"train\"], PhaseType.train, verbose, **training_kwargs)\n",
    "        epoch_logs[\"train\"] = train_logs\n",
    "\n",
    "        if \"valid\" in loaders:\n",
    "            val_logs = execute_phase(network, loaders[\"valid\"], PhaseType.val, verbose, **training_kwargs)\n",
    "            epoch_logs[\"val\"] = val_logs\n",
    "\n",
    "        history.append(epoch_logs)\n",
    "\n",
    "    return history\n",
    "\n",
    "\n",
    "def execute_phase(\n",
    "    network: nn.Module,\n",
    "    data_loader: DataLoader,\n",
    "    phase_type: PhaseType = PhaseType.train,\n",
    "    verbose: bool = False,\n",
    "    **kwargs\n",
    ") -> Dict[str, float]:\n",
    "    \"\"\"\n",
    "    Execute a training phase on a network. The possible phase are {train, val, test}.\n",
    "\n",
    "    Parameters\n",
    "    ----------\n",
    "    network: The model to fit.\n",
    "    data_loader: The data loader used to make the current training phase.\n",
    "    phase_type: The phase type in {train, val, test}.\n",
    "    verbose: True to show some training stats else False.\n",
    "    kwargs:\n",
    "        use_cuda (bool): True to use cuda device else False.\n",
    "\n",
    "    Returns\n",
    "    -------\n",
    "    The phase logs.\n",
    "    \"\"\"\n",
    "    if phase_type == PhaseType.train:\n",
    "        network.train()\n",
    "    else:\n",
    "        network.eval()\n",
    "\n",
    "    if kwargs.get(\"use_cuda\", True):\n",
    "        device = \"cuda\"\n",
    "        if torch.cuda.is_available():\n",
    "            network.to(device)\n",
    "    else:\n",
    "        device = \"cpu\"\n",
    "        network.to(device)\n",
    "\n",
    "    if \"scheduler\" in kwargs and kwargs[\"scheduler\"] is not None:\n",
    "        kwargs[\"scheduler\"].step()\n",
    "\n",
    "    phase_logs = {\"loss\": 0, \"acc\": 0}\n",
    "\n",
    "    if verbose:\n",
    "        phase_progress = tqdm.tqdm(range(len(data_loader)), unit=\"batch\")\n",
    "        phase_progress.set_description_str(f\"Phase: {phase_type.name}\")\n",
    "    for j, (inputs, targets) in enumerate(data_loader):\n",
    "        if device == \"cuda\":\n",
    "            if torch.cuda.is_available():\n",
    "                inputs = inputs.float().to(device)\n",
    "                targets = targets.to(device)\n",
    "\n",
    "        batch_logs = execute_batch_training(network, inputs, targets, phase_type, verbose, **kwargs)\n",
    "        for metric_name, metric in batch_logs.items():\n",
    "            phase_logs[metric_name] = (j * phase_logs[metric_name] + metric) / (j + 1)\n",
    "\n",
    "        if verbose:\n",
    "            phase_progress.update()\n",
    "            phase_progress.set_postfix_str(' '.join([str(_m)+': '+str(f\"{_v:.5f}\")\n",
    "                                                     for _m, _v in phase_logs.items()]))\n",
    "    if verbose:\n",
    "        phase_progress.close()\n",
    "    return phase_logs\n",
    "\n",
    "\n",
    "def execute_batch_training(\n",
    "    network: nn.Module,\n",
    "    inputs,\n",
    "    targets,\n",
    "    phase_type: PhaseType = PhaseType.train,\n",
    "    verbose: bool = False,\n",
    "    **kwargs\n",
    ") -> Dict[str, float]:\n",
    "    \"\"\"\n",
    "    Execute a training batch on a network.\n",
    "\n",
    "    Parameters\n",
    "    ----------\n",
    "    network: The model to fit.\n",
    "    inputs: The inputs of the model.\n",
    "    targets: The targets of the model.\n",
    "    phase_type: The phase type in {train, val, test}.\n",
    "    verbose: True to show some training stats else False.\n",
    "    kwargs:\n",
    "        optimiser (torch.optim): The optimizer used to make the weights updates.\n",
    "\n",
    "    Returns\n",
    "    -------\n",
    "    Batch logs as dict.\n",
    "    \"\"\"\n",
    "    network.zero_grad()\n",
    "    output = network(inputs)\n",
    "\n",
    "    batch_logs = dict(loss=kwargs[\"criterion\"](output, targets))\n",
    "\n",
    "    if phase_type == PhaseType.train:\n",
    "        batch_logs[\"loss\"].backward()\n",
    "        kwargs[\"optimizer\"].step()\n",
    "\n",
    "    batch_logs['acc'] = np.mean((torch.argmax(output, dim=-1) == targets).cpu().detach().numpy())\n",
    "\n",
    "    batch_logs[\"loss\"] = batch_logs[\"loss\"].cpu().detach().numpy()\n",
    "    return batch_logs"
   ]
  },
  {
   "cell_type": "markdown",
   "metadata": {},
   "source": [
    "## The Optimizer Model\n",
    "\n",
    "It's time to implement the optimizer model. You just have to implement the following methods: \"build_model\",\n",
    "\"fit_model_\" and \"score\". Those methods must respect their signature and output type. The objective here is to make the building, the training and the score phase depend on some hyper-parameters. So the optimizer can use those to find the best set of hp.\n"
   ]
  },
  {
   "cell_type": "code",
   "execution_count": 5,
   "metadata": {
    "pycharm": {
     "name": "#%%\n"
    }
   },
   "outputs": [],
   "source": [
    "class TorchMNISTHpOptimizer(HpOptimizer):\n",
    "    def __init__(self, use_cuda: bool = True):\n",
    "        self.use_cuda = use_cuda\n",
    "    \n",
    "    def build_model(self, **hp) -> torch.nn.Module:\n",
    "        model = MnistNet()\n",
    "        if torch.cuda.is_available() and self.use_cuda:\n",
    "            model.cuda()\n",
    "        return model\n",
    "\n",
    "    def fit_model_(\n",
    "            self,\n",
    "            model: torch.nn.Module,\n",
    "            X: Union[np.ndarray, pd.DataFrame, torch.Tensor],\n",
    "            y: Union[np.ndarray, torch.Tensor],\n",
    "            verbose=False,\n",
    "            **hp\n",
    "    ) -> object:\n",
    "        if hp.get(\"pre_normalized\", True):\n",
    "            X = X/torch.max(X)\n",
    "\n",
    "        optimizer = optim.SGD(model.parameters(),\n",
    "                              lr=hp.get(\"learning_rate\", 1e-3),\n",
    "                              momentum=hp.get(\"momentum\", 0.9),\n",
    "                              nesterov=hp.get(\"nesterov\", True))\n",
    "\n",
    "        train_pytorch_network(\n",
    "            model,\n",
    "            loaders=dict(\n",
    "                train=DataLoader(\n",
    "                    TensorDataset(torch.FloatTensor(X), torch.LongTensor(y)),\n",
    "                    batch_size=hp.get(\"batch_size\", 32),\n",
    "                    num_workers=2,\n",
    "                    shuffle=True\n",
    "                )\n",
    "            ),\n",
    "            verbose=verbose,\n",
    "            optimizer=optimizer,\n",
    "            use_cuda=self.use_cuda,\n",
    "            **hp\n",
    "        )\n",
    "\n",
    "        return model\n",
    "\n",
    "    def score(\n",
    "            self,\n",
    "            model: torch.nn.Module,\n",
    "            X: Union[np.ndarray, pd.DataFrame, torch.Tensor],\n",
    "            y: Union[np.ndarray, torch.Tensor],\n",
    "            **hp\n",
    "    ) -> float:\n",
    "        if hp.get(\"pre_normalized\", True):\n",
    "            X = X/torch.max(X)\n",
    "\n",
    "        model_device = next(model.parameters()).device\n",
    "        if isinstance(X, torch.Tensor):\n",
    "            X = X.float().to(model_device)\n",
    "            y = y.to(model_device)\n",
    "        test_acc = np.mean((torch.argmax(model(X), dim=-1) == y).cpu().detach().numpy())\n",
    "        return test_acc\n"
   ]
  },
  {
   "cell_type": "markdown",
   "metadata": {},
   "source": [
    "## Execution & Optimization\n",
    "\n",
    "First thing after creating our classes is to load the dataset in memory.\n"
   ]
  },
  {
   "cell_type": "code",
   "execution_count": 6,
   "metadata": {
    "pycharm": {
     "name": "#%%\n"
    }
   },
   "outputs": [
    {
     "name": "stdout",
     "output_type": "stream",
     "text": [
      "Downloading MNIST dataset...\n",
      "Downloading MNIST dataset --> Done\n"
     ]
    }
   ],
   "source": [
    "mnist_X_y_dict = get_torch_MNIST_X_y()\n",
    "mnist_hp_optimizer = TorchMNISTHpOptimizer(use_cuda=False)"
   ]
  },
  {
   "cell_type": "markdown",
   "metadata": {},
   "source": [
    "After you will define your hyper-parameters space with a dictionary like this."
   ]
  },
  {
   "cell_type": "code",
   "execution_count": 7,
   "metadata": {
    "pycharm": {
     "name": "#%%\n"
    }
   },
   "outputs": [],
   "source": [
    "hp_space = dict(\n",
    "    epochs=list(range(1, 16)),\n",
    "    batch_size=[16, 32],\n",
    "    learning_rate=np.linspace(1e-4, 1e-1, 50),\n",
    "    nesterov=[True, False],\n",
    "    momentum=np.linspace(0.01, 0.99, 50),\n",
    "    pre_normalized=[False, True],\n",
    ")"
   ]
  },
  {
   "cell_type": "markdown",
   "metadata": {},
   "source": [
    "It's time to define you hp search algorithm and give it your budget in time and iteration."
   ]
  },
  {
   "cell_type": "code",
   "execution_count": 8,
   "metadata": {
    "pycharm": {
     "name": "#%%\n"
    }
   },
   "outputs": [],
   "source": [
    "param_gen = RandomHpSearch(hp_space, max_seconds=60*5, max_itr=1_000)"
   ]
  },
  {
   "cell_type": "markdown",
   "metadata": {},
   "source": [
    "Finally, you start the optimization by giving your parameter generator to the optimize method. Note that the \"stop_criterion\" argument is to stop the optimization when the given score is reached. It's really useful to save some time."
   ]
  },
  {
   "cell_type": "code",
   "execution_count": 9,
   "metadata": {
    "pycharm": {
     "name": "#%%\n"
    }
   },
   "outputs": [
    {
     "name": "stderr",
     "output_type": "stream",
     "text": [
      "  0%|▌                                                                                                                                                                         | 3/1000 [05:08<28:29:42, 102.89s/itr, mean_score: 0.98]\n"
     ]
    }
   ],
   "source": [
    "save_kwargs = dict(\n",
    "    save_name=f\"tf_mnist_hp_opt\",\n",
    "    title=\"Random search: MNIST\",\n",
    ")\n",
    "\n",
    "param_gen = mnist_hp_optimizer.optimize(\n",
    "    param_gen,\n",
    "    mnist_X_y_dict[\"train\"][\"x\"],\n",
    "    mnist_X_y_dict[\"train\"][\"y\"],\n",
    "    n_splits=2,\n",
    "    stop_criterion=1.0,\n",
    "    save_kwargs=save_kwargs,\n",
    ")"
   ]
  },
  {
   "cell_type": "markdown",
   "metadata": {},
   "source": [
    "## Testing\n",
    "\n",
    "Now, you can test the optimized hyper-parameters by fitting again with the full train dataset. Yes with the full dataset, because in the optimization phase a cross-validation is made which crop your train dataset by half. Plus, it's time to test the fitted model on the test dataset.\n"
   ]
  },
  {
   "cell_type": "code",
   "execution_count": 10,
   "metadata": {
    "pycharm": {
     "name": "#%%\n"
    }
   },
   "outputs": [
    {
     "name": "stdout",
     "output_type": "stream",
     "text": [
      "test_acc: 98.980%\n"
     ]
    }
   ],
   "source": [
    "opt_hp = param_gen.get_best_param()\n",
    "\n",
    "model = mnist_hp_optimizer.build_model(**opt_hp)\n",
    "mnist_hp_optimizer.fit_model_(\n",
    "    model,\n",
    "    mnist_X_y_dict[\"train\"][\"x\"],\n",
    "    mnist_X_y_dict[\"train\"][\"y\"],\n",
    "    **opt_hp\n",
    ")\n",
    "\n",
    "test_acc = mnist_hp_optimizer.score(\n",
    "    model.cpu(),\n",
    "    mnist_X_y_dict[\"test\"][\"x\"],\n",
    "    mnist_X_y_dict[\"test\"][\"y\"],\n",
    "    **opt_hp\n",
    ")\n",
    "print(f\"test_acc: {test_acc*100:.3f}%\")"
   ]
  },
  {
   "cell_type": "markdown",
   "metadata": {},
   "source": [
    "The optimized hyper-parameters:"
   ]
  },
  {
   "cell_type": "code",
   "execution_count": 11,
   "metadata": {
    "pycharm": {
     "name": "#%%\n"
    }
   },
   "outputs": [
    {
     "name": "stdout",
     "output_type": "stream",
     "text": [
      "{   'batch_size': 32,\n",
      "    'epochs': 11,\n",
      "    'learning_rate': 0.06330204081632654,\n",
      "    'momentum': 0.27,\n",
      "    'nesterov': True,\n",
      "    'pre_normalized': True}\n"
     ]
    }
   ],
   "source": [
    "pp = pprint.PrettyPrinter(indent=4)\n",
    "pp.pprint(opt_hp)"
   ]
  },
  {
   "cell_type": "markdown",
   "metadata": {},
   "source": [
    "## Visualization\n",
    "\n",
    "You can visualize the optimization with an interactive html file."
   ]
  },
  {
   "cell_type": "code",
   "execution_count": 13,
   "metadata": {
    "pycharm": {
     "name": "#%%\n"
    }
   },
   "outputs": [
    {
     "data": {
      "application/vnd.plotly.v1+json": {
       "config": {
        "plotlyServerURL": "https://plot.ly"
       },
       "data": [
        {
         "marker": {
          "color": [
           0.9717708333333333,
           0.9835416666666668,
           0.9830416666666666
          ],
          "colorscale": [
           [
            0,
            "#440154"
           ],
           [
            0.1111111111111111,
            "#482878"
           ],
           [
            0.2222222222222222,
            "#3e4989"
           ],
           [
            0.3333333333333333,
            "#31688e"
           ],
           [
            0.4444444444444444,
            "#26828e"
           ],
           [
            0.5555555555555556,
            "#1f9e89"
           ],
           [
            0.6666666666666666,
            "#35b779"
           ],
           [
            0.7777777777777778,
            "#6ece58"
           ],
           [
            0.8888888888888888,
            "#b5de2b"
           ],
           [
            1,
            "#fde725"
           ]
          ],
          "showscale": true,
          "size": 5
         },
         "mode": "markers",
         "name": "Trial points",
         "type": "scatter",
         "x": [
          5,
          11,
          12
         ],
         "y": [
          0.9717708333333333,
          0.9835416666666668,
          0.9830416666666666
         ]
        }
       ],
       "layout": {
        "annotations": [
         {
          "align": "left",
          "showarrow": false,
          "text": "Hyper-parameter:",
          "x": 0.89,
          "xanchor": "right",
          "xref": "paper",
          "y": 1.1,
          "yanchor": "middle",
          "yref": "paper"
         }
        ],
        "autosize": true,
        "font": {
         "size": 18
        },
        "margin": {
         "b": 150,
         "l": 150,
         "r": 150,
         "t": 150
        },
        "scene": {
         "aspectmode": "manual",
         "aspectratio": {
          "x": 1,
          "y": 1,
          "z": 0.7
         }
        },
        "template": {
         "data": {
          "bar": [
           {
            "error_x": {
             "color": "#f2f5fa"
            },
            "error_y": {
             "color": "#f2f5fa"
            },
            "marker": {
             "line": {
              "color": "rgb(17,17,17)",
              "width": 0.5
             }
            },
            "type": "bar"
           }
          ],
          "barpolar": [
           {
            "marker": {
             "line": {
              "color": "rgb(17,17,17)",
              "width": 0.5
             }
            },
            "type": "barpolar"
           }
          ],
          "carpet": [
           {
            "aaxis": {
             "endlinecolor": "#A2B1C6",
             "gridcolor": "#506784",
             "linecolor": "#506784",
             "minorgridcolor": "#506784",
             "startlinecolor": "#A2B1C6"
            },
            "baxis": {
             "endlinecolor": "#A2B1C6",
             "gridcolor": "#506784",
             "linecolor": "#506784",
             "minorgridcolor": "#506784",
             "startlinecolor": "#A2B1C6"
            },
            "type": "carpet"
           }
          ],
          "choropleth": [
           {
            "colorbar": {
             "outlinewidth": 0,
             "ticks": ""
            },
            "type": "choropleth"
           }
          ],
          "contour": [
           {
            "colorbar": {
             "outlinewidth": 0,
             "ticks": ""
            },
            "colorscale": [
             [
              0,
              "#0d0887"
             ],
             [
              0.1111111111111111,
              "#46039f"
             ],
             [
              0.2222222222222222,
              "#7201a8"
             ],
             [
              0.3333333333333333,
              "#9c179e"
             ],
             [
              0.4444444444444444,
              "#bd3786"
             ],
             [
              0.5555555555555556,
              "#d8576b"
             ],
             [
              0.6666666666666666,
              "#ed7953"
             ],
             [
              0.7777777777777778,
              "#fb9f3a"
             ],
             [
              0.8888888888888888,
              "#fdca26"
             ],
             [
              1,
              "#f0f921"
             ]
            ],
            "type": "contour"
           }
          ],
          "contourcarpet": [
           {
            "colorbar": {
             "outlinewidth": 0,
             "ticks": ""
            },
            "type": "contourcarpet"
           }
          ],
          "heatmap": [
           {
            "colorbar": {
             "outlinewidth": 0,
             "ticks": ""
            },
            "colorscale": [
             [
              0,
              "#0d0887"
             ],
             [
              0.1111111111111111,
              "#46039f"
             ],
             [
              0.2222222222222222,
              "#7201a8"
             ],
             [
              0.3333333333333333,
              "#9c179e"
             ],
             [
              0.4444444444444444,
              "#bd3786"
             ],
             [
              0.5555555555555556,
              "#d8576b"
             ],
             [
              0.6666666666666666,
              "#ed7953"
             ],
             [
              0.7777777777777778,
              "#fb9f3a"
             ],
             [
              0.8888888888888888,
              "#fdca26"
             ],
             [
              1,
              "#f0f921"
             ]
            ],
            "type": "heatmap"
           }
          ],
          "heatmapgl": [
           {
            "colorbar": {
             "outlinewidth": 0,
             "ticks": ""
            },
            "colorscale": [
             [
              0,
              "#0d0887"
             ],
             [
              0.1111111111111111,
              "#46039f"
             ],
             [
              0.2222222222222222,
              "#7201a8"
             ],
             [
              0.3333333333333333,
              "#9c179e"
             ],
             [
              0.4444444444444444,
              "#bd3786"
             ],
             [
              0.5555555555555556,
              "#d8576b"
             ],
             [
              0.6666666666666666,
              "#ed7953"
             ],
             [
              0.7777777777777778,
              "#fb9f3a"
             ],
             [
              0.8888888888888888,
              "#fdca26"
             ],
             [
              1,
              "#f0f921"
             ]
            ],
            "type": "heatmapgl"
           }
          ],
          "histogram": [
           {
            "marker": {
             "colorbar": {
              "outlinewidth": 0,
              "ticks": ""
             }
            },
            "type": "histogram"
           }
          ],
          "histogram2d": [
           {
            "colorbar": {
             "outlinewidth": 0,
             "ticks": ""
            },
            "colorscale": [
             [
              0,
              "#0d0887"
             ],
             [
              0.1111111111111111,
              "#46039f"
             ],
             [
              0.2222222222222222,
              "#7201a8"
             ],
             [
              0.3333333333333333,
              "#9c179e"
             ],
             [
              0.4444444444444444,
              "#bd3786"
             ],
             [
              0.5555555555555556,
              "#d8576b"
             ],
             [
              0.6666666666666666,
              "#ed7953"
             ],
             [
              0.7777777777777778,
              "#fb9f3a"
             ],
             [
              0.8888888888888888,
              "#fdca26"
             ],
             [
              1,
              "#f0f921"
             ]
            ],
            "type": "histogram2d"
           }
          ],
          "histogram2dcontour": [
           {
            "colorbar": {
             "outlinewidth": 0,
             "ticks": ""
            },
            "colorscale": [
             [
              0,
              "#0d0887"
             ],
             [
              0.1111111111111111,
              "#46039f"
             ],
             [
              0.2222222222222222,
              "#7201a8"
             ],
             [
              0.3333333333333333,
              "#9c179e"
             ],
             [
              0.4444444444444444,
              "#bd3786"
             ],
             [
              0.5555555555555556,
              "#d8576b"
             ],
             [
              0.6666666666666666,
              "#ed7953"
             ],
             [
              0.7777777777777778,
              "#fb9f3a"
             ],
             [
              0.8888888888888888,
              "#fdca26"
             ],
             [
              1,
              "#f0f921"
             ]
            ],
            "type": "histogram2dcontour"
           }
          ],
          "mesh3d": [
           {
            "colorbar": {
             "outlinewidth": 0,
             "ticks": ""
            },
            "type": "mesh3d"
           }
          ],
          "parcoords": [
           {
            "line": {
             "colorbar": {
              "outlinewidth": 0,
              "ticks": ""
             }
            },
            "type": "parcoords"
           }
          ],
          "pie": [
           {
            "automargin": true,
            "type": "pie"
           }
          ],
          "scatter": [
           {
            "marker": {
             "line": {
              "color": "#283442"
             }
            },
            "type": "scatter"
           }
          ],
          "scatter3d": [
           {
            "line": {
             "colorbar": {
              "outlinewidth": 0,
              "ticks": ""
             }
            },
            "marker": {
             "colorbar": {
              "outlinewidth": 0,
              "ticks": ""
             }
            },
            "type": "scatter3d"
           }
          ],
          "scattercarpet": [
           {
            "marker": {
             "colorbar": {
              "outlinewidth": 0,
              "ticks": ""
             }
            },
            "type": "scattercarpet"
           }
          ],
          "scattergeo": [
           {
            "marker": {
             "colorbar": {
              "outlinewidth": 0,
              "ticks": ""
             }
            },
            "type": "scattergeo"
           }
          ],
          "scattergl": [
           {
            "marker": {
             "line": {
              "color": "#283442"
             }
            },
            "type": "scattergl"
           }
          ],
          "scattermapbox": [
           {
            "marker": {
             "colorbar": {
              "outlinewidth": 0,
              "ticks": ""
             }
            },
            "type": "scattermapbox"
           }
          ],
          "scatterpolar": [
           {
            "marker": {
             "colorbar": {
              "outlinewidth": 0,
              "ticks": ""
             }
            },
            "type": "scatterpolar"
           }
          ],
          "scatterpolargl": [
           {
            "marker": {
             "colorbar": {
              "outlinewidth": 0,
              "ticks": ""
             }
            },
            "type": "scatterpolargl"
           }
          ],
          "scatterternary": [
           {
            "marker": {
             "colorbar": {
              "outlinewidth": 0,
              "ticks": ""
             }
            },
            "type": "scatterternary"
           }
          ],
          "surface": [
           {
            "colorbar": {
             "outlinewidth": 0,
             "ticks": ""
            },
            "colorscale": [
             [
              0,
              "#0d0887"
             ],
             [
              0.1111111111111111,
              "#46039f"
             ],
             [
              0.2222222222222222,
              "#7201a8"
             ],
             [
              0.3333333333333333,
              "#9c179e"
             ],
             [
              0.4444444444444444,
              "#bd3786"
             ],
             [
              0.5555555555555556,
              "#d8576b"
             ],
             [
              0.6666666666666666,
              "#ed7953"
             ],
             [
              0.7777777777777778,
              "#fb9f3a"
             ],
             [
              0.8888888888888888,
              "#fdca26"
             ],
             [
              1,
              "#f0f921"
             ]
            ],
            "type": "surface"
           }
          ],
          "table": [
           {
            "cells": {
             "fill": {
              "color": "#506784"
             },
             "line": {
              "color": "rgb(17,17,17)"
             }
            },
            "header": {
             "fill": {
              "color": "#2a3f5f"
             },
             "line": {
              "color": "rgb(17,17,17)"
             }
            },
            "type": "table"
           }
          ]
         },
         "layout": {
          "annotationdefaults": {
           "arrowcolor": "#f2f5fa",
           "arrowhead": 0,
           "arrowwidth": 1
          },
          "autotypenumbers": "strict",
          "coloraxis": {
           "colorbar": {
            "outlinewidth": 0,
            "ticks": ""
           }
          },
          "colorscale": {
           "diverging": [
            [
             0,
             "#8e0152"
            ],
            [
             0.1,
             "#c51b7d"
            ],
            [
             0.2,
             "#de77ae"
            ],
            [
             0.3,
             "#f1b6da"
            ],
            [
             0.4,
             "#fde0ef"
            ],
            [
             0.5,
             "#f7f7f7"
            ],
            [
             0.6,
             "#e6f5d0"
            ],
            [
             0.7,
             "#b8e186"
            ],
            [
             0.8,
             "#7fbc41"
            ],
            [
             0.9,
             "#4d9221"
            ],
            [
             1,
             "#276419"
            ]
           ],
           "sequential": [
            [
             0,
             "#0d0887"
            ],
            [
             0.1111111111111111,
             "#46039f"
            ],
            [
             0.2222222222222222,
             "#7201a8"
            ],
            [
             0.3333333333333333,
             "#9c179e"
            ],
            [
             0.4444444444444444,
             "#bd3786"
            ],
            [
             0.5555555555555556,
             "#d8576b"
            ],
            [
             0.6666666666666666,
             "#ed7953"
            ],
            [
             0.7777777777777778,
             "#fb9f3a"
            ],
            [
             0.8888888888888888,
             "#fdca26"
            ],
            [
             1,
             "#f0f921"
            ]
           ],
           "sequentialminus": [
            [
             0,
             "#0d0887"
            ],
            [
             0.1111111111111111,
             "#46039f"
            ],
            [
             0.2222222222222222,
             "#7201a8"
            ],
            [
             0.3333333333333333,
             "#9c179e"
            ],
            [
             0.4444444444444444,
             "#bd3786"
            ],
            [
             0.5555555555555556,
             "#d8576b"
            ],
            [
             0.6666666666666666,
             "#ed7953"
            ],
            [
             0.7777777777777778,
             "#fb9f3a"
            ],
            [
             0.8888888888888888,
             "#fdca26"
            ],
            [
             1,
             "#f0f921"
            ]
           ]
          },
          "colorway": [
           "#636efa",
           "#EF553B",
           "#00cc96",
           "#ab63fa",
           "#FFA15A",
           "#19d3f3",
           "#FF6692",
           "#B6E880",
           "#FF97FF",
           "#FECB52"
          ],
          "font": {
           "color": "#f2f5fa"
          },
          "geo": {
           "bgcolor": "rgb(17,17,17)",
           "lakecolor": "rgb(17,17,17)",
           "landcolor": "rgb(17,17,17)",
           "showlakes": true,
           "showland": true,
           "subunitcolor": "#506784"
          },
          "hoverlabel": {
           "align": "left"
          },
          "hovermode": "closest",
          "mapbox": {
           "style": "dark"
          },
          "paper_bgcolor": "rgb(17,17,17)",
          "plot_bgcolor": "rgb(17,17,17)",
          "polar": {
           "angularaxis": {
            "gridcolor": "#506784",
            "linecolor": "#506784",
            "ticks": ""
           },
           "bgcolor": "rgb(17,17,17)",
           "radialaxis": {
            "gridcolor": "#506784",
            "linecolor": "#506784",
            "ticks": ""
           }
          },
          "scene": {
           "xaxis": {
            "backgroundcolor": "rgb(17,17,17)",
            "gridcolor": "#506784",
            "gridwidth": 2,
            "linecolor": "#506784",
            "showbackground": true,
            "ticks": "",
            "zerolinecolor": "#C8D4E3"
           },
           "yaxis": {
            "backgroundcolor": "rgb(17,17,17)",
            "gridcolor": "#506784",
            "gridwidth": 2,
            "linecolor": "#506784",
            "showbackground": true,
            "ticks": "",
            "zerolinecolor": "#C8D4E3"
           },
           "zaxis": {
            "backgroundcolor": "rgb(17,17,17)",
            "gridcolor": "#506784",
            "gridwidth": 2,
            "linecolor": "#506784",
            "showbackground": true,
            "ticks": "",
            "zerolinecolor": "#C8D4E3"
           }
          },
          "shapedefaults": {
           "line": {
            "color": "#f2f5fa"
           }
          },
          "sliderdefaults": {
           "bgcolor": "#C8D4E3",
           "bordercolor": "rgb(17,17,17)",
           "borderwidth": 1,
           "tickwidth": 0
          },
          "ternary": {
           "aaxis": {
            "gridcolor": "#506784",
            "linecolor": "#506784",
            "ticks": ""
           },
           "baxis": {
            "gridcolor": "#506784",
            "linecolor": "#506784",
            "ticks": ""
           },
           "bgcolor": "rgb(17,17,17)",
           "caxis": {
            "gridcolor": "#506784",
            "linecolor": "#506784",
            "ticks": ""
           }
          },
          "title": {
           "x": 0.05
          },
          "updatemenudefaults": {
           "bgcolor": "#506784",
           "borderwidth": 0
          },
          "xaxis": {
           "automargin": true,
           "gridcolor": "#283442",
           "linecolor": "#506784",
           "ticks": "",
           "title": {
            "standoff": 15
           },
           "zerolinecolor": "#283442",
           "zerolinewidth": 2
          },
          "yaxis": {
           "automargin": true,
           "gridcolor": "#283442",
           "linecolor": "#506784",
           "ticks": "",
           "title": {
            "standoff": 15
           },
           "zerolinecolor": "#283442",
           "zerolinewidth": 2
          }
         }
        },
        "title": {
         "text": "Random search: MNIST"
        },
        "updatemenus": [
         {
          "buttons": [
           {
            "args": [
             {
              "marker": {
               "color": [
                0.9717708333333333,
                0.9835416666666668,
                0.9830416666666666
               ],
               "showscale": true
              },
              "x": [
               [
                5,
                11,
                12
               ]
              ],
              "y": [
               [
                0.9717708333333333,
                0.9835416666666668,
                0.9830416666666666
               ]
              ]
             },
             {
              "xaxis.title.text": "epochs: parameter space [-]",
              "yaxis.title.text": "Score [-]"
             }
            ],
            "label": "epochs",
            "method": "update"
           },
           {
            "args": [
             {
              "marker": {
               "color": [
                0.9717708333333333,
                0.9835416666666668,
                0.9830416666666666
               ],
               "showscale": true
              },
              "x": [
               [
                32,
                32,
                16
               ]
              ],
              "y": [
               [
                0.9717708333333333,
                0.9835416666666668,
                0.9830416666666666
               ]
              ]
             },
             {
              "xaxis.title.text": "batch_size: parameter space [-]",
              "yaxis.title.text": "Score [-]"
             }
            ],
            "label": "batch_size",
            "method": "update"
           },
           {
            "args": [
             {
              "marker": {
               "color": [
                0.9717708333333333,
                0.9835416666666668,
                0.9830416666666666
               ],
               "showscale": true
              },
              "x": [
               [
                0.03272040816326531,
                0.06330204081632654,
                0.09184489795918369
               ]
              ],
              "y": [
               [
                0.9717708333333333,
                0.9835416666666668,
                0.9830416666666666
               ]
              ]
             },
             {
              "xaxis.title.text": "learning_rate: parameter space [-]",
              "yaxis.title.text": "Score [-]"
             }
            ],
            "label": "learning_rate",
            "method": "update"
           },
           {
            "args": [
             {
              "marker": {
               "color": [
                0.9717708333333333,
                0.9835416666666668,
                0.9830416666666666
               ],
               "showscale": true
              },
              "x": [
               [
                false,
                true,
                false
               ]
              ],
              "y": [
               [
                0.9717708333333333,
                0.9835416666666668,
                0.9830416666666666
               ]
              ]
             },
             {
              "xaxis.title.text": "nesterov: parameter space [-]",
              "yaxis.title.text": "Score [-]"
             }
            ],
            "label": "nesterov",
            "method": "update"
           },
           {
            "args": [
             {
              "marker": {
               "color": [
                0.9717708333333333,
                0.9835416666666668,
                0.9830416666666666
               ],
               "showscale": true
              },
              "x": [
               [
                0.41000000000000003,
                0.27,
                0.25
               ]
              ],
              "y": [
               [
                0.9717708333333333,
                0.9835416666666668,
                0.9830416666666666
               ]
              ]
             },
             {
              "xaxis.title.text": "momentum: parameter space [-]",
              "yaxis.title.text": "Score [-]"
             }
            ],
            "label": "momentum",
            "method": "update"
           },
           {
            "args": [
             {
              "marker": {
               "color": [
                0.9717708333333333,
                0.9835416666666668,
                0.9830416666666666
               ],
               "showscale": true
              },
              "x": [
               [
                false,
                true,
                false
               ]
              ],
              "y": [
               [
                0.9717708333333333,
                0.9835416666666668,
                0.9830416666666666
               ]
              ]
             },
             {
              "xaxis.title.text": "pre_normalized: parameter space [-]",
              "yaxis.title.text": "Score [-]"
             }
            ],
            "label": "pre_normalized",
            "method": "update"
           }
          ],
          "direction": "down",
          "pad": {
           "r": 10,
           "t": 10
          },
          "showactive": true,
          "x": 0.9,
          "xanchor": "left",
          "y": 1.1,
          "yanchor": "middle"
         }
        ],
        "xaxis": {
         "title": {
          "text": "epochs: parameter space [-]"
         }
        },
        "yaxis": {
         "title": {
          "text": "Score [-]"
         }
        }
       }
      },
      "text/html": [
       "<div>                            <div id=\"e04df481-19f5-401a-b92d-2256165807a7\" class=\"plotly-graph-div\" style=\"height:525px; width:100%;\"></div>            <script type=\"text/javascript\">                require([\"plotly\"], function(Plotly) {                    window.PLOTLYENV=window.PLOTLYENV || {};                                    if (document.getElementById(\"e04df481-19f5-401a-b92d-2256165807a7\")) {                    Plotly.newPlot(                        \"e04df481-19f5-401a-b92d-2256165807a7\",                        [{\"marker\": {\"color\": [0.9717708333333333, 0.9835416666666668, 0.9830416666666666], \"colorscale\": [[0.0, \"#440154\"], [0.1111111111111111, \"#482878\"], [0.2222222222222222, \"#3e4989\"], [0.3333333333333333, \"#31688e\"], [0.4444444444444444, \"#26828e\"], [0.5555555555555556, \"#1f9e89\"], [0.6666666666666666, \"#35b779\"], [0.7777777777777778, \"#6ece58\"], [0.8888888888888888, \"#b5de2b\"], [1.0, \"#fde725\"]], \"showscale\": true, \"size\": 5}, \"mode\": \"markers\", \"name\": \"Trial points\", \"type\": \"scatter\", \"x\": [5, 11, 12], \"y\": [0.9717708333333333, 0.9835416666666668, 0.9830416666666666]}],                        {\"annotations\": [{\"align\": \"left\", \"showarrow\": false, \"text\": \"Hyper-parameter:\", \"x\": 0.89, \"xanchor\": \"right\", \"xref\": \"paper\", \"y\": 1.1, \"yanchor\": \"middle\", \"yref\": \"paper\"}], \"autosize\": true, \"font\": {\"size\": 18}, \"margin\": {\"b\": 150, \"l\": 150, \"r\": 150, \"t\": 150}, \"scene\": {\"aspectmode\": \"manual\", \"aspectratio\": {\"x\": 1, \"y\": 1, \"z\": 0.7}}, \"template\": {\"data\": {\"bar\": [{\"error_x\": {\"color\": \"#f2f5fa\"}, \"error_y\": {\"color\": \"#f2f5fa\"}, \"marker\": {\"line\": {\"color\": \"rgb(17,17,17)\", \"width\": 0.5}}, \"type\": \"bar\"}], \"barpolar\": [{\"marker\": {\"line\": {\"color\": \"rgb(17,17,17)\", \"width\": 0.5}}, \"type\": \"barpolar\"}], \"carpet\": [{\"aaxis\": {\"endlinecolor\": \"#A2B1C6\", \"gridcolor\": \"#506784\", \"linecolor\": \"#506784\", \"minorgridcolor\": \"#506784\", \"startlinecolor\": \"#A2B1C6\"}, \"baxis\": {\"endlinecolor\": \"#A2B1C6\", \"gridcolor\": \"#506784\", \"linecolor\": \"#506784\", \"minorgridcolor\": \"#506784\", \"startlinecolor\": \"#A2B1C6\"}, \"type\": \"carpet\"}], \"choropleth\": [{\"colorbar\": {\"outlinewidth\": 0, \"ticks\": \"\"}, \"type\": \"choropleth\"}], \"contour\": [{\"colorbar\": {\"outlinewidth\": 0, \"ticks\": \"\"}, \"colorscale\": [[0.0, \"#0d0887\"], [0.1111111111111111, \"#46039f\"], [0.2222222222222222, \"#7201a8\"], [0.3333333333333333, \"#9c179e\"], [0.4444444444444444, \"#bd3786\"], [0.5555555555555556, \"#d8576b\"], [0.6666666666666666, \"#ed7953\"], [0.7777777777777778, \"#fb9f3a\"], [0.8888888888888888, \"#fdca26\"], [1.0, \"#f0f921\"]], \"type\": \"contour\"}], \"contourcarpet\": [{\"colorbar\": {\"outlinewidth\": 0, \"ticks\": \"\"}, \"type\": \"contourcarpet\"}], \"heatmap\": [{\"colorbar\": {\"outlinewidth\": 0, \"ticks\": \"\"}, \"colorscale\": [[0.0, \"#0d0887\"], [0.1111111111111111, \"#46039f\"], [0.2222222222222222, \"#7201a8\"], [0.3333333333333333, \"#9c179e\"], [0.4444444444444444, \"#bd3786\"], [0.5555555555555556, \"#d8576b\"], [0.6666666666666666, \"#ed7953\"], [0.7777777777777778, \"#fb9f3a\"], [0.8888888888888888, \"#fdca26\"], [1.0, \"#f0f921\"]], \"type\": \"heatmap\"}], \"heatmapgl\": [{\"colorbar\": {\"outlinewidth\": 0, \"ticks\": \"\"}, \"colorscale\": [[0.0, \"#0d0887\"], [0.1111111111111111, \"#46039f\"], [0.2222222222222222, \"#7201a8\"], [0.3333333333333333, \"#9c179e\"], [0.4444444444444444, \"#bd3786\"], [0.5555555555555556, \"#d8576b\"], [0.6666666666666666, \"#ed7953\"], [0.7777777777777778, \"#fb9f3a\"], [0.8888888888888888, \"#fdca26\"], [1.0, \"#f0f921\"]], \"type\": \"heatmapgl\"}], \"histogram\": [{\"marker\": {\"colorbar\": {\"outlinewidth\": 0, \"ticks\": \"\"}}, \"type\": \"histogram\"}], \"histogram2d\": [{\"colorbar\": {\"outlinewidth\": 0, \"ticks\": \"\"}, \"colorscale\": [[0.0, \"#0d0887\"], [0.1111111111111111, \"#46039f\"], [0.2222222222222222, \"#7201a8\"], [0.3333333333333333, \"#9c179e\"], [0.4444444444444444, \"#bd3786\"], [0.5555555555555556, \"#d8576b\"], [0.6666666666666666, \"#ed7953\"], [0.7777777777777778, \"#fb9f3a\"], [0.8888888888888888, \"#fdca26\"], [1.0, \"#f0f921\"]], \"type\": \"histogram2d\"}], \"histogram2dcontour\": [{\"colorbar\": {\"outlinewidth\": 0, \"ticks\": \"\"}, \"colorscale\": [[0.0, \"#0d0887\"], [0.1111111111111111, \"#46039f\"], [0.2222222222222222, \"#7201a8\"], [0.3333333333333333, \"#9c179e\"], [0.4444444444444444, \"#bd3786\"], [0.5555555555555556, \"#d8576b\"], [0.6666666666666666, \"#ed7953\"], [0.7777777777777778, \"#fb9f3a\"], [0.8888888888888888, \"#fdca26\"], [1.0, \"#f0f921\"]], \"type\": \"histogram2dcontour\"}], \"mesh3d\": [{\"colorbar\": {\"outlinewidth\": 0, \"ticks\": \"\"}, \"type\": \"mesh3d\"}], \"parcoords\": [{\"line\": {\"colorbar\": {\"outlinewidth\": 0, \"ticks\": \"\"}}, \"type\": \"parcoords\"}], \"pie\": [{\"automargin\": true, \"type\": \"pie\"}], \"scatter\": [{\"marker\": {\"line\": {\"color\": \"#283442\"}}, \"type\": \"scatter\"}], \"scatter3d\": [{\"line\": {\"colorbar\": {\"outlinewidth\": 0, \"ticks\": \"\"}}, \"marker\": {\"colorbar\": {\"outlinewidth\": 0, \"ticks\": \"\"}}, \"type\": \"scatter3d\"}], \"scattercarpet\": [{\"marker\": {\"colorbar\": {\"outlinewidth\": 0, \"ticks\": \"\"}}, \"type\": \"scattercarpet\"}], \"scattergeo\": [{\"marker\": {\"colorbar\": {\"outlinewidth\": 0, \"ticks\": \"\"}}, \"type\": \"scattergeo\"}], \"scattergl\": [{\"marker\": {\"line\": {\"color\": \"#283442\"}}, \"type\": \"scattergl\"}], \"scattermapbox\": [{\"marker\": {\"colorbar\": {\"outlinewidth\": 0, \"ticks\": \"\"}}, \"type\": \"scattermapbox\"}], \"scatterpolar\": [{\"marker\": {\"colorbar\": {\"outlinewidth\": 0, \"ticks\": \"\"}}, \"type\": \"scatterpolar\"}], \"scatterpolargl\": [{\"marker\": {\"colorbar\": {\"outlinewidth\": 0, \"ticks\": \"\"}}, \"type\": \"scatterpolargl\"}], \"scatterternary\": [{\"marker\": {\"colorbar\": {\"outlinewidth\": 0, \"ticks\": \"\"}}, \"type\": \"scatterternary\"}], \"surface\": [{\"colorbar\": {\"outlinewidth\": 0, \"ticks\": \"\"}, \"colorscale\": [[0.0, \"#0d0887\"], [0.1111111111111111, \"#46039f\"], [0.2222222222222222, \"#7201a8\"], [0.3333333333333333, \"#9c179e\"], [0.4444444444444444, \"#bd3786\"], [0.5555555555555556, \"#d8576b\"], [0.6666666666666666, \"#ed7953\"], [0.7777777777777778, \"#fb9f3a\"], [0.8888888888888888, \"#fdca26\"], [1.0, \"#f0f921\"]], \"type\": \"surface\"}], \"table\": [{\"cells\": {\"fill\": {\"color\": \"#506784\"}, \"line\": {\"color\": \"rgb(17,17,17)\"}}, \"header\": {\"fill\": {\"color\": \"#2a3f5f\"}, \"line\": {\"color\": \"rgb(17,17,17)\"}}, \"type\": \"table\"}]}, \"layout\": {\"annotationdefaults\": {\"arrowcolor\": \"#f2f5fa\", \"arrowhead\": 0, \"arrowwidth\": 1}, \"autotypenumbers\": \"strict\", \"coloraxis\": {\"colorbar\": {\"outlinewidth\": 0, \"ticks\": \"\"}}, \"colorscale\": {\"diverging\": [[0, \"#8e0152\"], [0.1, \"#c51b7d\"], [0.2, \"#de77ae\"], [0.3, \"#f1b6da\"], [0.4, \"#fde0ef\"], [0.5, \"#f7f7f7\"], [0.6, \"#e6f5d0\"], [0.7, \"#b8e186\"], [0.8, \"#7fbc41\"], [0.9, \"#4d9221\"], [1, \"#276419\"]], \"sequential\": [[0.0, \"#0d0887\"], [0.1111111111111111, \"#46039f\"], [0.2222222222222222, \"#7201a8\"], [0.3333333333333333, \"#9c179e\"], [0.4444444444444444, \"#bd3786\"], [0.5555555555555556, \"#d8576b\"], [0.6666666666666666, \"#ed7953\"], [0.7777777777777778, \"#fb9f3a\"], [0.8888888888888888, \"#fdca26\"], [1.0, \"#f0f921\"]], \"sequentialminus\": [[0.0, \"#0d0887\"], [0.1111111111111111, \"#46039f\"], [0.2222222222222222, \"#7201a8\"], [0.3333333333333333, \"#9c179e\"], [0.4444444444444444, \"#bd3786\"], [0.5555555555555556, \"#d8576b\"], [0.6666666666666666, \"#ed7953\"], [0.7777777777777778, \"#fb9f3a\"], [0.8888888888888888, \"#fdca26\"], [1.0, \"#f0f921\"]]}, \"colorway\": [\"#636efa\", \"#EF553B\", \"#00cc96\", \"#ab63fa\", \"#FFA15A\", \"#19d3f3\", \"#FF6692\", \"#B6E880\", \"#FF97FF\", \"#FECB52\"], \"font\": {\"color\": \"#f2f5fa\"}, \"geo\": {\"bgcolor\": \"rgb(17,17,17)\", \"lakecolor\": \"rgb(17,17,17)\", \"landcolor\": \"rgb(17,17,17)\", \"showlakes\": true, \"showland\": true, \"subunitcolor\": \"#506784\"}, \"hoverlabel\": {\"align\": \"left\"}, \"hovermode\": \"closest\", \"mapbox\": {\"style\": \"dark\"}, \"paper_bgcolor\": \"rgb(17,17,17)\", \"plot_bgcolor\": \"rgb(17,17,17)\", \"polar\": {\"angularaxis\": {\"gridcolor\": \"#506784\", \"linecolor\": \"#506784\", \"ticks\": \"\"}, \"bgcolor\": \"rgb(17,17,17)\", \"radialaxis\": {\"gridcolor\": \"#506784\", \"linecolor\": \"#506784\", \"ticks\": \"\"}}, \"scene\": {\"xaxis\": {\"backgroundcolor\": \"rgb(17,17,17)\", \"gridcolor\": \"#506784\", \"gridwidth\": 2, \"linecolor\": \"#506784\", \"showbackground\": true, \"ticks\": \"\", \"zerolinecolor\": \"#C8D4E3\"}, \"yaxis\": {\"backgroundcolor\": \"rgb(17,17,17)\", \"gridcolor\": \"#506784\", \"gridwidth\": 2, \"linecolor\": \"#506784\", \"showbackground\": true, \"ticks\": \"\", \"zerolinecolor\": \"#C8D4E3\"}, \"zaxis\": {\"backgroundcolor\": \"rgb(17,17,17)\", \"gridcolor\": \"#506784\", \"gridwidth\": 2, \"linecolor\": \"#506784\", \"showbackground\": true, \"ticks\": \"\", \"zerolinecolor\": \"#C8D4E3\"}}, \"shapedefaults\": {\"line\": {\"color\": \"#f2f5fa\"}}, \"sliderdefaults\": {\"bgcolor\": \"#C8D4E3\", \"bordercolor\": \"rgb(17,17,17)\", \"borderwidth\": 1, \"tickwidth\": 0}, \"ternary\": {\"aaxis\": {\"gridcolor\": \"#506784\", \"linecolor\": \"#506784\", \"ticks\": \"\"}, \"baxis\": {\"gridcolor\": \"#506784\", \"linecolor\": \"#506784\", \"ticks\": \"\"}, \"bgcolor\": \"rgb(17,17,17)\", \"caxis\": {\"gridcolor\": \"#506784\", \"linecolor\": \"#506784\", \"ticks\": \"\"}}, \"title\": {\"x\": 0.05}, \"updatemenudefaults\": {\"bgcolor\": \"#506784\", \"borderwidth\": 0}, \"xaxis\": {\"automargin\": true, \"gridcolor\": \"#283442\", \"linecolor\": \"#506784\", \"ticks\": \"\", \"title\": {\"standoff\": 15}, \"zerolinecolor\": \"#283442\", \"zerolinewidth\": 2}, \"yaxis\": {\"automargin\": true, \"gridcolor\": \"#283442\", \"linecolor\": \"#506784\", \"ticks\": \"\", \"title\": {\"standoff\": 15}, \"zerolinecolor\": \"#283442\", \"zerolinewidth\": 2}}}, \"title\": {\"text\": \"Random search: MNIST\"}, \"updatemenus\": [{\"buttons\": [{\"args\": [{\"marker\": {\"color\": [0.9717708333333333, 0.9835416666666668, 0.9830416666666666], \"showscale\": true}, \"x\": [[5, 11, 12]], \"y\": [[0.9717708333333333, 0.9835416666666668, 0.9830416666666666]]}, {\"xaxis.title.text\": \"epochs: parameter space [-]\", \"yaxis.title.text\": \"Score [-]\"}], \"label\": \"epochs\", \"method\": \"update\"}, {\"args\": [{\"marker\": {\"color\": [0.9717708333333333, 0.9835416666666668, 0.9830416666666666], \"showscale\": true}, \"x\": [[32, 32, 16]], \"y\": [[0.9717708333333333, 0.9835416666666668, 0.9830416666666666]]}, {\"xaxis.title.text\": \"batch_size: parameter space [-]\", \"yaxis.title.text\": \"Score [-]\"}], \"label\": \"batch_size\", \"method\": \"update\"}, {\"args\": [{\"marker\": {\"color\": [0.9717708333333333, 0.9835416666666668, 0.9830416666666666], \"showscale\": true}, \"x\": [[0.03272040816326531, 0.06330204081632654, 0.09184489795918369]], \"y\": [[0.9717708333333333, 0.9835416666666668, 0.9830416666666666]]}, {\"xaxis.title.text\": \"learning_rate: parameter space [-]\", \"yaxis.title.text\": \"Score [-]\"}], \"label\": \"learning_rate\", \"method\": \"update\"}, {\"args\": [{\"marker\": {\"color\": [0.9717708333333333, 0.9835416666666668, 0.9830416666666666], \"showscale\": true}, \"x\": [[false, true, false]], \"y\": [[0.9717708333333333, 0.9835416666666668, 0.9830416666666666]]}, {\"xaxis.title.text\": \"nesterov: parameter space [-]\", \"yaxis.title.text\": \"Score [-]\"}], \"label\": \"nesterov\", \"method\": \"update\"}, {\"args\": [{\"marker\": {\"color\": [0.9717708333333333, 0.9835416666666668, 0.9830416666666666], \"showscale\": true}, \"x\": [[0.41000000000000003, 0.27, 0.25]], \"y\": [[0.9717708333333333, 0.9835416666666668, 0.9830416666666666]]}, {\"xaxis.title.text\": \"momentum: parameter space [-]\", \"yaxis.title.text\": \"Score [-]\"}], \"label\": \"momentum\", \"method\": \"update\"}, {\"args\": [{\"marker\": {\"color\": [0.9717708333333333, 0.9835416666666668, 0.9830416666666666], \"showscale\": true}, \"x\": [[false, true, false]], \"y\": [[0.9717708333333333, 0.9835416666666668, 0.9830416666666666]]}, {\"xaxis.title.text\": \"pre_normalized: parameter space [-]\", \"yaxis.title.text\": \"Score [-]\"}], \"label\": \"pre_normalized\", \"method\": \"update\"}], \"direction\": \"down\", \"pad\": {\"r\": 10, \"t\": 10}, \"showactive\": true, \"x\": 0.9, \"xanchor\": \"left\", \"y\": 1.1, \"yanchor\": \"middle\"}], \"xaxis\": {\"title\": {\"text\": \"epochs: parameter space [-]\"}}, \"yaxis\": {\"title\": {\"text\": \"Score [-]\"}}},                        {\"responsive\": true}                    ).then(function(){\n",
       "                            \n",
       "var gd = document.getElementById('e04df481-19f5-401a-b92d-2256165807a7');\n",
       "var x = new MutationObserver(function (mutations, observer) {{\n",
       "        var display = window.getComputedStyle(gd).display;\n",
       "        if (!display || display === 'none') {{\n",
       "            console.log([gd, 'removed!']);\n",
       "            Plotly.purge(gd);\n",
       "            observer.disconnect();\n",
       "        }}\n",
       "}});\n",
       "\n",
       "// Listen for the removal of the full notebook cells\n",
       "var notebookContainer = gd.closest('#notebook-container');\n",
       "if (notebookContainer) {{\n",
       "    x.observe(notebookContainer, {childList: true});\n",
       "}}\n",
       "\n",
       "// Listen for the clearing of the current output cell\n",
       "var outputEl = gd.closest('.output');\n",
       "if (outputEl) {{\n",
       "    x.observe(outputEl, {childList: true});\n",
       "}}\n",
       "\n",
       "                        })                };                });            </script>        </div>"
      ]
     },
     "metadata": {},
     "output_type": "display_data"
    }
   ],
   "source": [
    "fig = param_gen.write_optimization_to_html(show=True, dark_mode=True, **save_kwargs)"
   ]
  },
  {
   "cell_type": "code",
   "execution_count": null,
   "metadata": {},
   "outputs": [],
   "source": []
  }
 ],
 "metadata": {
  "kernelspec": {
   "display_name": "Python 3",
   "language": "python",
   "name": "python3"
  },
  "language_info": {
   "codemirror_mode": {
    "name": "ipython",
    "version": 3
   },
   "file_extension": ".py",
   "mimetype": "text/x-python",
   "name": "python",
   "nbconvert_exporter": "python",
   "pygments_lexer": "ipython3",
   "version": "3.8.6"
  }
 },
 "nbformat": 4,
 "nbformat_minor": 1
}
